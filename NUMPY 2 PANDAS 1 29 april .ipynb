{
 "cells": [
  {
   "cell_type": "code",
   "execution_count": 2,
   "id": "38b7d55f-b12b-4706-81ae-8bf8042af3c6",
   "metadata": {},
   "outputs": [],
   "source": [
    "# NUMPY DAY 2....>\n",
    "# UNIQUE METHOD....> IT WILL RETURN 3 ARRAYS / unique ()\n",
    "# arr....> uniquw element of array.\n",
    "# return_index= TRUE ...> return indexing of unique elements.\n",
    "# Return_count= TRUE...> return frequency of unique element."
   ]
  },
  {
   "cell_type": "code",
   "execution_count": 6,
   "id": "cc37396b-3091-4d7c-9779-3d97d566cb8c",
   "metadata": {},
   "outputs": [],
   "source": [
    "import numpy as np"
   ]
  },
  {
   "cell_type": "code",
   "execution_count": 8,
   "id": "40e6f799-6c5f-425b-b869-3b81473bb49d",
   "metadata": {},
   "outputs": [
    {
     "data": {
      "text/plain": [
       "array([1, 2, 3, 4, 1, 1, 1, 5, 6, 7])"
      ]
     },
     "execution_count": 8,
     "metadata": {},
     "output_type": "execute_result"
    }
   ],
   "source": [
    "a=np.array([1,2,3,4,1,1,1,5,6,7])\n",
    "a"
   ]
  },
  {
   "cell_type": "code",
   "execution_count": 10,
   "id": "2b060c22-0a51-46dc-a3bb-48c771f7498d",
   "metadata": {},
   "outputs": [
    {
     "data": {
      "text/plain": [
       "(array([1, 2, 3, 4, 5, 6, 7]),\n",
       " array([0, 1, 2, 3, 7, 8, 9], dtype=int64),\n",
       " array([4, 1, 1, 1, 1, 1, 1], dtype=int64))"
      ]
     },
     "execution_count": 10,
     "metadata": {},
     "output_type": "execute_result"
    }
   ],
   "source": [
    "np.unique(a, return_index=True , return_counts=True)"
   ]
  },
  {
   "cell_type": "code",
   "execution_count": 18,
   "id": "300d2294-c6ad-488b-aee6-0f91979507bc",
   "metadata": {},
   "outputs": [],
   "source": [
    "# LINSPACE()...> it will create an array in which gap of values will be eqal.\n",
    "# syntax : np.linspace(min,max,total_number)"
   ]
  },
  {
   "cell_type": "code",
   "execution_count": 20,
   "id": "d72f7e26-61d1-46a0-8ac1-c2cf623a46bd",
   "metadata": {},
   "outputs": [
    {
     "data": {
      "text/plain": [
       "array([1.  , 1.25, 1.5 , 1.75, 2.  ])"
      ]
     },
     "execution_count": 20,
     "metadata": {},
     "output_type": "execute_result"
    }
   ],
   "source": [
    "a=np.linspace(1,2,5)\n",
    "a"
   ]
  },
  {
   "cell_type": "code",
   "execution_count": 22,
   "id": "3a668662-d408-44d9-b338-4764f0297053",
   "metadata": {},
   "outputs": [],
   "source": [
    "# HSTACK (horizontal) ...> it will combine all the arrays horizontally.\n",
    "# VSTACK (vertical)...> it will combine all the arrays vertically."
   ]
  },
  {
   "cell_type": "code",
   "execution_count": 36,
   "id": "8eb30eb6-6b16-44b9-86f3-fa28887a6927",
   "metadata": {},
   "outputs": [],
   "source": [
    "a=np.array([1,2,3])\n",
    "b=np.array([4,5,6])\n",
    "c=np.array([7,8,9])"
   ]
  },
  {
   "cell_type": "code",
   "execution_count": 38,
   "id": "78113d22-e4f1-4260-b5e4-6db4916a0350",
   "metadata": {},
   "outputs": [
    {
     "data": {
      "text/plain": [
       "array([1, 2, 3, 4, 5, 6, 7, 8, 9])"
      ]
     },
     "execution_count": 38,
     "metadata": {},
     "output_type": "execute_result"
    }
   ],
   "source": [
    "np.hstack((a,b,c)) # it will combine horizontally"
   ]
  },
  {
   "cell_type": "code",
   "execution_count": 40,
   "id": "a1991a21-423b-4725-92cc-9989ee38e97d",
   "metadata": {},
   "outputs": [
    {
     "data": {
      "text/plain": [
       "array([[1, 2, 3],\n",
       "       [4, 5, 6],\n",
       "       [7, 8, 9]])"
      ]
     },
     "execution_count": 40,
     "metadata": {},
     "output_type": "execute_result"
    }
   ],
   "source": [
    "np.vstack((a,b,c))  #  it will combine vertically"
   ]
  },
  {
   "cell_type": "code",
   "execution_count": 44,
   "id": "d5acc4f7-a1c8-40eb-9857-12b499c8a8de",
   "metadata": {},
   "outputs": [],
   "source": [
    "# PANDAS : Pandas is a open-source library of python thats is used for handle data maniuplation. "
   ]
  },
  {
   "cell_type": "code",
   "execution_count": 50,
   "id": "666ddf97-9088-4ee9-b661-d53afe774351",
   "metadata": {},
   "outputs": [
    {
     "name": "stdout",
     "output_type": "stream",
     "text": [
      "Requirement already satisfied: pandas in c:\\programdata\\anaconda3\\lib\\site-packages (2.2.2)\n",
      "Requirement already satisfied: numpy>=1.26.0 in c:\\programdata\\anaconda3\\lib\\site-packages (from pandas) (1.26.4)\n",
      "Requirement already satisfied: python-dateutil>=2.8.2 in c:\\programdata\\anaconda3\\lib\\site-packages (from pandas) (2.9.0.post0)\n",
      "Requirement already satisfied: pytz>=2020.1 in c:\\programdata\\anaconda3\\lib\\site-packages (from pandas) (2024.1)\n",
      "Requirement already satisfied: tzdata>=2022.7 in c:\\programdata\\anaconda3\\lib\\site-packages (from pandas) (2023.3)\n",
      "Requirement already satisfied: six>=1.5 in c:\\programdata\\anaconda3\\lib\\site-packages (from python-dateutil>=2.8.2->pandas) (1.16.0)\n"
     ]
    }
   ],
   "source": [
    "# pip intall pamndas ( for intallation\n",
    "!pip install pandas"
   ]
  },
  {
   "cell_type": "code",
   "execution_count": 52,
   "id": "ae8074c2-51ee-45e4-a6bb-715af2027e7f",
   "metadata": {},
   "outputs": [],
   "source": [
    "import pandas as pd"
   ]
  },
  {
   "cell_type": "code",
   "execution_count": 54,
   "id": "9713d3b2-0c30-46b3-9026-e0a7c208ab6a",
   "metadata": {},
   "outputs": [],
   "source": [
    "# DATA STRUCTURE OF PANDAS :\n",
    "# (A)...> SERIES = it is one-dimensional arrays it shoows onnly values.\n",
    "# (B)....> DATAFRAME = it is multi-dimensional array and it contains values with colum name."
   ]
  },
  {
   "cell_type": "code",
   "execution_count": 64,
   "id": "c102313c-e8c7-447a-b771-856b654d6074",
   "metadata": {},
   "outputs": [
    {
     "data": {
      "text/plain": [
       "0     1\n",
       "1    54\n",
       "2    22\n",
       "3    36\n",
       "4     7\n",
       "5     8\n",
       "dtype: int64"
      ]
     },
     "execution_count": 64,
     "metadata": {},
     "output_type": "execute_result"
    }
   ],
   "source": [
    "# (A) SERIES :\n",
    "\n",
    "a= pd.Series([1,54,22,36,7,8])\n",
    "a"
   ]
  },
  {
   "cell_type": "code",
   "execution_count": 66,
   "id": "93816827-1b23-413c-86fd-0007b39d3f0d",
   "metadata": {},
   "outputs": [
    {
     "data": {
      "text/plain": [
       "pandas.core.series.Series"
      ]
     },
     "execution_count": 66,
     "metadata": {},
     "output_type": "execute_result"
    }
   ],
   "source": [
    "type(a)"
   ]
  },
  {
   "cell_type": "code",
   "execution_count": 85,
   "id": "57d6bfe8-95c0-4d0c-8c4a-345705d55bf3",
   "metadata": {},
   "outputs": [
    {
     "data": {
      "text/html": [
       "<div>\n",
       "<style scoped>\n",
       "    .dataframe tbody tr th:only-of-type {\n",
       "        vertical-align: middle;\n",
       "    }\n",
       "\n",
       "    .dataframe tbody tr th {\n",
       "        vertical-align: top;\n",
       "    }\n",
       "\n",
       "    .dataframe thead th {\n",
       "        text-align: right;\n",
       "    }\n",
       "</style>\n",
       "<table border=\"1\" class=\"dataframe\">\n",
       "  <thead>\n",
       "    <tr style=\"text-align: right;\">\n",
       "      <th></th>\n",
       "      <th>Emp_id</th>\n",
       "      <th>Name</th>\n",
       "      <th>Department</th>\n",
       "      <th>Salary</th>\n",
       "    </tr>\n",
       "  </thead>\n",
       "  <tbody>\n",
       "    <tr>\n",
       "      <th>0</th>\n",
       "      <td>1</td>\n",
       "      <td>sam</td>\n",
       "      <td>It</td>\n",
       "      <td>100</td>\n",
       "    </tr>\n",
       "    <tr>\n",
       "      <th>1</th>\n",
       "      <td>2</td>\n",
       "      <td>raj</td>\n",
       "      <td>Cse</td>\n",
       "      <td>200</td>\n",
       "    </tr>\n",
       "    <tr>\n",
       "      <th>2</th>\n",
       "      <td>3</td>\n",
       "      <td>harsh</td>\n",
       "      <td>Doctor</td>\n",
       "      <td>30000</td>\n",
       "    </tr>\n",
       "    <tr>\n",
       "      <th>3</th>\n",
       "      <td>4</td>\n",
       "      <td>aman</td>\n",
       "      <td>Cs</td>\n",
       "      <td>400</td>\n",
       "    </tr>\n",
       "    <tr>\n",
       "      <th>4</th>\n",
       "      <td>5</td>\n",
       "      <td>shivam</td>\n",
       "      <td>Teacher</td>\n",
       "      <td>500</td>\n",
       "    </tr>\n",
       "  </tbody>\n",
       "</table>\n",
       "</div>"
      ],
      "text/plain": [
       "   Emp_id    Name Department  Salary\n",
       "0       1     sam         It     100\n",
       "1       2     raj        Cse     200\n",
       "2       3   harsh     Doctor   30000\n",
       "3       4    aman         Cs     400\n",
       "4       5  shivam    Teacher     500"
      ]
     },
     "execution_count": 85,
     "metadata": {},
     "output_type": "execute_result"
    }
   ],
   "source": [
    "# (B) Dataframe :\n",
    "\n",
    "a={\n",
    "    \"Emp_id\":[1,2,3,4,5],\n",
    "    \"Name\":['sam','raj','harsh','aman','shivam'],\n",
    "    \"Department\":['It','Cse','Doctor','Cs','Teacher'],\n",
    "    \"Salary\":[100,200,30000,400,500]\n",
    "}\n",
    "df=pd.DataFrame(a)\n",
    "df"
   ]
  },
  {
   "cell_type": "code",
   "execution_count": 91,
   "id": "b74f0cfa-f348-402d-8425-3bd3b0c3c581",
   "metadata": {},
   "outputs": [],
   "source": [
    "df.to_csv(\"C:\\\\Users\\\\harsh\\\\OneDrive\\\\Desktop\\\\PANDAS\\\\emp_info.csv\",index=False)"
   ]
  },
  {
   "cell_type": "code",
   "execution_count": null,
   "id": "007fe457-87c6-47bd-acc7-adcdfa4d2844",
   "metadata": {},
   "outputs": [],
   "source": []
  }
 ],
 "metadata": {
  "kernelspec": {
   "display_name": "Python [conda env:base] *",
   "language": "python",
   "name": "conda-base-py"
  },
  "language_info": {
   "codemirror_mode": {
    "name": "ipython",
    "version": 3
   },
   "file_extension": ".py",
   "mimetype": "text/x-python",
   "name": "python",
   "nbconvert_exporter": "python",
   "pygments_lexer": "ipython3",
   "version": "3.12.7"
  }
 },
 "nbformat": 4,
 "nbformat_minor": 5
}
