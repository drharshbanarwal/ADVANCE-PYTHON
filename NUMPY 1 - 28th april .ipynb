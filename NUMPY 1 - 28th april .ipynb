{
 "cells": [
  {
   "cell_type": "code",
   "execution_count": 2,
   "id": "d1506501-6d89-47d5-adca-f84140cbdddb",
   "metadata": {},
   "outputs": [],
   "source": [
    "# NUMPY\n",
    "# INTRODUCTION OF NUMPY :>\n",
    "# Numpy is an opern -source library of python which is used for handle scintific -calculation."
   ]
  },
  {
   "cell_type": "code",
   "execution_count": 4,
   "id": "70703532-e6e1-4696-97c8-d88f0f6c08b2",
   "metadata": {},
   "outputs": [
    {
     "name": "stdout",
     "output_type": "stream",
     "text": [
      "Requirement already satisfied: numpy in c:\\programdata\\anaconda3\\lib\\site-packages (1.26.4)\n",
      "Note: you may need to restart the kernel to use updated packages.\n"
     ]
    }
   ],
   "source": [
    "pip install numpy\n",
    "# pip install numpy"
   ]
  },
  {
   "cell_type": "code",
   "execution_count": 6,
   "id": "0316869d-4fef-4941-9fee-bfc5363839f8",
   "metadata": {},
   "outputs": [],
   "source": [
    "# why numpy is better then list \n",
    "# 1. numpy is homogenous data type and list is a hetrogenious data type.\n",
    "# 2. numpy take less memory while list take more.\n",
    "# 3. numpy take less excution time while list take more excution time.\n",
    "# 4. numpy has more functionality as compare to the list."
   ]
  },
  {
   "cell_type": "code",
   "execution_count": 10,
   "id": "0f911646-eb1c-4c54-860c-cd303527abbb",
   "metadata": {},
   "outputs": [],
   "source": [
    "import numpy as np"
   ]
  },
  {
   "cell_type": "code",
   "execution_count": 12,
   "id": "0ed2bdd5-f0b2-4c1d-b6d7-63c3fdcb274e",
   "metadata": {},
   "outputs": [
    {
     "data": {
      "text/plain": [
       "list"
      ]
     },
     "execution_count": 12,
     "metadata": {},
     "output_type": "execute_result"
    }
   ],
   "source": [
    "a=[1,2,3,4]\n",
    "type(a)"
   ]
  },
  {
   "cell_type": "code",
   "execution_count": 16,
   "id": "86c2dd71-f674-4fc8-b06b-5d879fdfe804",
   "metadata": {},
   "outputs": [
    {
     "data": {
      "text/plain": [
       "array([1, 2, 3, 4])"
      ]
     },
     "execution_count": 16,
     "metadata": {},
     "output_type": "execute_result"
    }
   ],
   "source": [
    "b=np.array(a)\n",
    "b"
   ]
  },
  {
   "cell_type": "code",
   "execution_count": 18,
   "id": "88002508-1f7f-4139-992d-4ae5cc7c9bf8",
   "metadata": {},
   "outputs": [
    {
     "data": {
      "text/plain": [
       "numpy.ndarray"
      ]
     },
     "execution_count": 18,
     "metadata": {},
     "output_type": "execute_result"
    }
   ],
   "source": [
    "type(b)"
   ]
  },
  {
   "cell_type": "code",
   "execution_count": 20,
   "id": "d2ccb807-4e03-4f0c-a4a4-21bd8422800f",
   "metadata": {},
   "outputs": [
    {
     "data": {
      "text/plain": [
       "array([[1, 2, 3],\n",
       "       [4, 5, 6],\n",
       "       [7, 8, 9]])"
      ]
     },
     "execution_count": 20,
     "metadata": {},
     "output_type": "execute_result"
    }
   ],
   "source": [
    "a=[[1,2,3],[4,5,6],[7,8,9]]\n",
    "b= np.array(a)\n",
    "b"
   ]
  },
  {
   "cell_type": "code",
   "execution_count": 22,
   "id": "41d5dd62-7de7-4ee8-8e54-febcceed3d7c",
   "metadata": {},
   "outputs": [
    {
     "name": "stdout",
     "output_type": "stream",
     "text": [
      "total Rows and Coloum: (3, 3)\n",
      "Total Elements: 9\n",
      "total dimension: 2\n"
     ]
    }
   ],
   "source": [
    "print(\"total Rows and Coloum:\",b.shape)  # shape=number(rows) ,n(coloum)\n",
    "print(\"Total Elements:\",b.size)  # size=n(row)*n(coloum)\n",
    "print(\"total dimension:\",b.ndim)  # ndmi stands for n_dimension here =(x,y)"
   ]
  },
  {
   "cell_type": "code",
   "execution_count": 26,
   "id": "91afc9d7-7f7a-4e31-acee-5150c730300a",
   "metadata": {},
   "outputs": [
    {
     "name": "stdin",
     "output_type": "stream",
     "text": [
      "enter the size: 3\n",
      "enter items: 5\n",
      "enter items: 4\n",
      "enter items: 5\n"
     ]
    },
    {
     "data": {
      "text/plain": [
       "array([5, 4, 5])"
      ]
     },
     "execution_count": 26,
     "metadata": {},
     "output_type": "execute_result"
    }
   ],
   "source": [
    "# USER DEFINE ARRAY \n",
    "\n",
    "a=[]\n",
    "size=int(input(\"enter the size:\"))\n",
    "for i in range(size):\n",
    "    val=int(input(\"enter items:\"))\n",
    "    a.append(val)\n",
    "\n",
    "b= np.array(a)\n",
    "b"
   ]
  },
  {
   "cell_type": "code",
   "execution_count": 28,
   "id": "18d9a066-ccc6-45b4-82ad-a538d38eaf0c",
   "metadata": {},
   "outputs": [],
   "source": [
    "# FUNCTIONS IN NUMPY"
   ]
  },
  {
   "cell_type": "code",
   "execution_count": 30,
   "id": "b1767444-6886-4fee-b514-2e374f4c6e08",
   "metadata": {},
   "outputs": [],
   "source": [
    "# 1. ZERO()...> iw will create an array in which all the values will be 0 in either one-dimension\n",
    "# or multiple-dimension.\n"
   ]
  },
  {
   "cell_type": "code",
   "execution_count": 32,
   "id": "2fe7f711-b8c8-4709-9641-fc04bc58d811",
   "metadata": {},
   "outputs": [
    {
     "data": {
      "text/plain": [
       "array([0., 0., 0.])"
      ]
     },
     "execution_count": 32,
     "metadata": {},
     "output_type": "execute_result"
    }
   ],
   "source": [
    "a=np.zeros(3)\n",
    "a"
   ]
  },
  {
   "cell_type": "code",
   "execution_count": 36,
   "id": "155adc16-d3d9-482c-b381-73c775cb7a1b",
   "metadata": {},
   "outputs": [
    {
     "data": {
      "text/plain": [
       "array([[0., 0., 0., 0.],\n",
       "       [0., 0., 0., 0.],\n",
       "       [0., 0., 0., 0.]])"
      ]
     },
     "execution_count": 36,
     "metadata": {},
     "output_type": "execute_result"
    }
   ],
   "source": [
    "a=np.zeros((3,4))\n",
    "a"
   ]
  },
  {
   "cell_type": "code",
   "execution_count": 38,
   "id": "948d3ebe-ed4c-42ae-908f-52eab0baded0",
   "metadata": {},
   "outputs": [],
   "source": [
    "# 2. ONES()...> it will create an array in which all the values will be 1 either one \n",
    "# dimision or multi-dimension"
   ]
  },
  {
   "cell_type": "code",
   "execution_count": 40,
   "id": "60217643-fadf-447f-ba4e-6caffc173554",
   "metadata": {},
   "outputs": [
    {
     "data": {
      "text/plain": [
       "array([1., 1., 1.])"
      ]
     },
     "execution_count": 40,
     "metadata": {},
     "output_type": "execute_result"
    }
   ],
   "source": [
    "a=np.ones(3)\n",
    "a"
   ]
  },
  {
   "cell_type": "code",
   "execution_count": 42,
   "id": "7386de2e-3475-423e-9f54-9ad87b6f584a",
   "metadata": {},
   "outputs": [
    {
     "data": {
      "text/plain": [
       "array([[1., 1., 1., 1.],\n",
       "       [1., 1., 1., 1.],\n",
       "       [1., 1., 1., 1.]])"
      ]
     },
     "execution_count": 42,
     "metadata": {},
     "output_type": "execute_result"
    }
   ],
   "source": [
    "a=np.ones((3,4))\n",
    "a"
   ]
  },
  {
   "cell_type": "code",
   "execution_count": 44,
   "id": "66794426-0cc9-44a3-8f52-60aefc84282b",
   "metadata": {},
   "outputs": [],
   "source": [
    "# 3. EYE()...> it will create an array in which diganl positional elements will be 1 \n",
    "# and rest all are 0(zero).\n"
   ]
  },
  {
   "cell_type": "code",
   "execution_count": 46,
   "id": "652d6c94-86d0-493a-ae33-7c46de45050c",
   "metadata": {},
   "outputs": [
    {
     "data": {
      "text/plain": [
       "array([[1., 0., 0., 0.],\n",
       "       [0., 1., 0., 0.],\n",
       "       [0., 0., 1., 0.]])"
      ]
     },
     "execution_count": 46,
     "metadata": {},
     "output_type": "execute_result"
    }
   ],
   "source": [
    "a=np.eye(3,4)\n",
    "a"
   ]
  },
  {
   "cell_type": "code",
   "execution_count": 48,
   "id": "22b3a03e-ec05-48c0-9fe9-99517d3dcd41",
   "metadata": {},
   "outputs": [],
   "source": [
    "# 4. DIAG()...> we can set custom values on digonal position."
   ]
  },
  {
   "cell_type": "code",
   "execution_count": 50,
   "id": "8455c05c-f02b-414f-923c-f344480377fd",
   "metadata": {},
   "outputs": [
    {
     "data": {
      "text/plain": [
       "array([10, 34, 67, 90])"
      ]
     },
     "execution_count": 50,
     "metadata": {},
     "output_type": "execute_result"
    }
   ],
   "source": [
    "a=np.array([10,34,67,90])\n",
    "a"
   ]
  },
  {
   "cell_type": "code",
   "execution_count": 52,
   "id": "dfeed740-5f67-4283-b10a-9242bf9ba3d4",
   "metadata": {},
   "outputs": [
    {
     "data": {
      "text/plain": [
       "array([[10,  0,  0,  0],\n",
       "       [ 0, 34,  0,  0],\n",
       "       [ 0,  0, 67,  0],\n",
       "       [ 0,  0,  0, 90]])"
      ]
     },
     "execution_count": 52,
     "metadata": {},
     "output_type": "execute_result"
    }
   ],
   "source": [
    "b=np.diag(a)\n",
    "b"
   ]
  },
  {
   "cell_type": "code",
   "execution_count": 56,
   "id": "db8556f5-dee3-4b85-812f-ce2757da8819",
   "metadata": {},
   "outputs": [
    {
     "data": {
      "text/plain": [
       "array([3, 2, 3])"
      ]
     },
     "execution_count": 56,
     "metadata": {},
     "output_type": "execute_result"
    }
   ],
   "source": [
    "# 5. RANDOM MODULE...>\n",
    "# (A) RANDIT()....> it will generate randome number in a given range.\n",
    "\n",
    "a=np.random.randint(1,10,3)\n",
    "a"
   ]
  },
  {
   "cell_type": "code",
   "execution_count": 58,
   "id": "bb4e7f77-879a-41ba-bb93-cbbae602b853",
   "metadata": {},
   "outputs": [
    {
     "data": {
      "text/plain": [
       "array([0.91246327, 0.2755612 , 0.15273596, 0.98971444])"
      ]
     },
     "execution_count": 58,
     "metadata": {},
     "output_type": "execute_result"
    }
   ],
   "source": [
    "# (B) RAND()...> it will generate number in range 0-1.\n",
    "a=np.random.rand(4)\n",
    "a"
   ]
  },
  {
   "cell_type": "code",
   "execution_count": 60,
   "id": "7a48cf35-29ca-408b-9691-b04b30d75390",
   "metadata": {},
   "outputs": [
    {
     "data": {
      "text/plain": [
       "array([8, 9, 6])"
      ]
     },
     "execution_count": 60,
     "metadata": {},
     "output_type": "execute_result"
    }
   ],
   "source": [
    "# (C) SEED...> it iwll fix our random generate data.\n",
    "\n",
    "np.random.seed(55)\n",
    "a=np.random.randint(1,10,3)\n",
    "a"
   ]
  },
  {
   "cell_type": "code",
   "execution_count": 62,
   "id": "64b90bf5-f96d-40dd-8945-1828324f0601",
   "metadata": {},
   "outputs": [
    {
     "data": {
      "text/plain": [
       "array([38, 28, 34, 49, 36, 47, 31, 14, 31, 13, 25, 48])"
      ]
     },
     "execution_count": 62,
     "metadata": {},
     "output_type": "execute_result"
    }
   ],
   "source": [
    "# OPERATIONS ON ARRAY\n",
    "\n",
    "a=np.random.randint(1,50,12)\n",
    "a"
   ]
  },
  {
   "cell_type": "code",
   "execution_count": 64,
   "id": "57f87f59-62b9-41e7-8b6d-3754672687df",
   "metadata": {},
   "outputs": [
    {
     "data": {
      "text/plain": [
       "12"
      ]
     },
     "execution_count": 64,
     "metadata": {},
     "output_type": "execute_result"
    }
   ],
   "source": [
    "a.size"
   ]
  },
  {
   "cell_type": "code",
   "execution_count": 66,
   "id": "b7c58c82-a278-4069-af78-7b75a456caac",
   "metadata": {},
   "outputs": [],
   "source": [
    "# 12====> reshape\n",
    "# 1*12, 12*1\n",
    "# 2*6, 6*2\n",
    "# 3*4 , 4*3\n",
    "\n",
    "# total =36\n",
    "# 1*36, 36*1\n",
    "# 2*18, 18*2\n",
    "# 3*12, 12*3\n"
   ]
  },
  {
   "cell_type": "code",
   "execution_count": 68,
   "id": "4dec7643-644e-42a0-8565-0d74e85c7999",
   "metadata": {},
   "outputs": [
    {
     "data": {
      "text/plain": [
       "array([[38, 28, 34, 49, 36, 47],\n",
       "       [31, 14, 31, 13, 25, 48]])"
      ]
     },
     "execution_count": 68,
     "metadata": {},
     "output_type": "execute_result"
    }
   ],
   "source": [
    "a.reshape(2,6)"
   ]
  },
  {
   "cell_type": "code",
   "execution_count": 70,
   "id": "272f0295-b14c-41ed-9d3b-9c5c73732e09",
   "metadata": {},
   "outputs": [
    {
     "data": {
      "text/plain": [
       "array([[38, 28, 34, 49],\n",
       "       [36, 47, 31, 14],\n",
       "       [31, 13, 25, 48]])"
      ]
     },
     "execution_count": 70,
     "metadata": {},
     "output_type": "execute_result"
    }
   ],
   "source": [
    "a.reshape(3,4)"
   ]
  },
  {
   "cell_type": "code",
   "execution_count": 72,
   "id": "276d4bce-44bd-44dd-a429-d07a99bfb04e",
   "metadata": {},
   "outputs": [
    {
     "data": {
      "text/plain": [
       "array([[38, 28, 34],\n",
       "       [49, 36, 47],\n",
       "       [31, 14, 31],\n",
       "       [13, 25, 48]])"
      ]
     },
     "execution_count": 72,
     "metadata": {},
     "output_type": "execute_result"
    }
   ],
   "source": [
    "a.reshape(4,3)"
   ]
  },
  {
   "cell_type": "code",
   "execution_count": 77,
   "id": "2d100554-cbe5-4020-9284-ffc354f6169f",
   "metadata": {},
   "outputs": [],
   "source": [
    "# OPERATION ON ARRAY\n",
    "# reshaping the array "
   ]
  },
  {
   "cell_type": "code",
   "execution_count": 79,
   "id": "5f5daf03-3520-4fd2-9723-1ac7af4a105a",
   "metadata": {},
   "outputs": [
    {
     "data": {
      "text/plain": [
       "array([ 1,  2,  3,  4,  5,  6,  7,  8,  9, 10, 11, 12, 13, 14, 15])"
      ]
     },
     "execution_count": 79,
     "metadata": {},
     "output_type": "execute_result"
    }
   ],
   "source": [
    "a= np.arange(1,16)\n",
    "a"
   ]
  },
  {
   "cell_type": "code",
   "execution_count": 81,
   "id": "12dad4e5-2444-4ced-87b6-d9af397004c8",
   "metadata": {},
   "outputs": [
    {
     "data": {
      "text/plain": [
       "array([False, False, False, False, False, False, False, False, False,\n",
       "       False,  True,  True,  True,  True,  True])"
      ]
     },
     "execution_count": 81,
     "metadata": {},
     "output_type": "execute_result"
    }
   ],
   "source": [
    "a>10"
   ]
  },
  {
   "cell_type": "code",
   "execution_count": 83,
   "id": "07ae2ec7-95b3-44f6-a902-8651304a7761",
   "metadata": {},
   "outputs": [
    {
     "data": {
      "text/plain": [
       "array([11, 12, 13, 14, 15])"
      ]
     },
     "execution_count": 83,
     "metadata": {},
     "output_type": "execute_result"
    }
   ],
   "source": [
    "b=a>10\n",
    "a[b]"
   ]
  },
  {
   "cell_type": "code",
   "execution_count": 85,
   "id": "17206216-e506-4b49-bd1b-e9bd464a6391",
   "metadata": {},
   "outputs": [
    {
     "data": {
      "text/plain": [
       "array([ 2,  4,  6,  8, 10, 12, 14])"
      ]
     },
     "execution_count": 85,
     "metadata": {},
     "output_type": "execute_result"
    }
   ],
   "source": [
    "a[a%2==0]"
   ]
  },
  {
   "cell_type": "code",
   "execution_count": 87,
   "id": "93d84be6-4472-40ef-a7ce-08860ed23e82",
   "metadata": {},
   "outputs": [
    {
     "data": {
      "text/plain": [
       "array([[ 1,  2,  3],\n",
       "       [ 4,  5,  6],\n",
       "       [ 7,  8,  9],\n",
       "       [10, 11, 12],\n",
       "       [13, 14, 15]])"
      ]
     },
     "execution_count": 87,
     "metadata": {},
     "output_type": "execute_result"
    }
   ],
   "source": [
    "a=a.reshape(5,3)\n",
    "a"
   ]
  },
  {
   "cell_type": "code",
   "execution_count": 89,
   "id": "402119fe-cd59-4443-9518-89efa9d538bc",
   "metadata": {},
   "outputs": [
    {
     "data": {
      "text/plain": [
       "120"
      ]
     },
     "execution_count": 89,
     "metadata": {},
     "output_type": "execute_result"
    }
   ],
   "source": [
    "np.sum(a)  # total sum"
   ]
  },
  {
   "cell_type": "code",
   "execution_count": 91,
   "id": "f423af1a-dff9-4796-a088-506156aa18fc",
   "metadata": {},
   "outputs": [
    {
     "data": {
      "text/plain": [
       "array([35, 40, 45])"
      ]
     },
     "execution_count": 91,
     "metadata": {},
     "output_type": "execute_result"
    }
   ],
   "source": [
    "np.sum(a,axis=0)  # colom wise sum(axis=0 i numpy)"
   ]
  },
  {
   "cell_type": "code",
   "execution_count": 93,
   "id": "890d0c7a-c29e-447d-a168-e63f55615d00",
   "metadata": {},
   "outputs": [
    {
     "data": {
      "text/plain": [
       "array([ 6, 15, 24, 33, 42])"
      ]
     },
     "execution_count": 93,
     "metadata": {},
     "output_type": "execute_result"
    }
   ],
   "source": [
    "np.sum(a,axis=1)  # row wise sum"
   ]
  },
  {
   "cell_type": "code",
   "execution_count": 95,
   "id": "455c08cc-925e-46ba-924c-214dd5119682",
   "metadata": {},
   "outputs": [
    {
     "data": {
      "text/plain": [
       "array([[1, 2],\n",
       "       [3, 4]])"
      ]
     },
     "execution_count": 95,
     "metadata": {},
     "output_type": "execute_result"
    }
   ],
   "source": [
    "a= np.arange(1,5).reshape(2,2)\n",
    "a"
   ]
  },
  {
   "cell_type": "code",
   "execution_count": 97,
   "id": "ce9ed071-dfaf-45c8-b7fa-722333b5fd2c",
   "metadata": {},
   "outputs": [
    {
     "data": {
      "text/plain": [
       "array([[5, 6],\n",
       "       [7, 8]])"
      ]
     },
     "execution_count": 97,
     "metadata": {},
     "output_type": "execute_result"
    }
   ],
   "source": [
    "b=np.arange(5,9).reshape(2,2)\n",
    "b"
   ]
  },
  {
   "cell_type": "code",
   "execution_count": 99,
   "id": "ac72d5eb-f5bc-41f3-9151-dd3c281c2d19",
   "metadata": {},
   "outputs": [
    {
     "data": {
      "text/plain": [
       "array([[ 6,  8],\n",
       "       [10, 12]])"
      ]
     },
     "execution_count": 99,
     "metadata": {},
     "output_type": "execute_result"
    }
   ],
   "source": [
    "a+b"
   ]
  },
  {
   "cell_type": "code",
   "execution_count": 101,
   "id": "55be2074-af47-4993-a92a-82897430d753",
   "metadata": {},
   "outputs": [
    {
     "data": {
      "text/plain": [
       "array([[-4, -4],\n",
       "       [-4, -4]])"
      ]
     },
     "execution_count": 101,
     "metadata": {},
     "output_type": "execute_result"
    }
   ],
   "source": [
    "a-b"
   ]
  },
  {
   "cell_type": "code",
   "execution_count": 103,
   "id": "419f3031-78a5-4016-8e98-9e5870a0c278",
   "metadata": {},
   "outputs": [
    {
     "data": {
      "text/plain": [
       "array([[ 5, 12],\n",
       "       [21, 32]])"
      ]
     },
     "execution_count": 103,
     "metadata": {},
     "output_type": "execute_result"
    }
   ],
   "source": [
    "a*b # matrix multiply is not this"
   ]
  },
  {
   "cell_type": "code",
   "execution_count": 105,
   "id": "645e1f8e-b585-46b6-9ca0-761b758584e5",
   "metadata": {},
   "outputs": [
    {
     "data": {
      "text/plain": [
       "array([[19, 22],\n",
       "       [43, 50]])"
      ]
     },
     "execution_count": 105,
     "metadata": {},
     "output_type": "execute_result"
    }
   ],
   "source": [
    "a.dot(b)  # dot () we can multliply of matrix."
   ]
  },
  {
   "cell_type": "code",
   "execution_count": 107,
   "id": "46532306-b7b3-4c1b-950b-2deb6f256f52",
   "metadata": {},
   "outputs": [
    {
     "data": {
      "text/plain": [
       "array([ 1,  4,  9, 16])"
      ]
     },
     "execution_count": 107,
     "metadata": {},
     "output_type": "execute_result"
    }
   ],
   "source": [
    "a=np.array([1,2,3,4])\n",
    "a**2"
   ]
  },
  {
   "cell_type": "code",
   "execution_count": 109,
   "id": "fcfef802-b5fd-4d7e-bf57-057019e19a91",
   "metadata": {},
   "outputs": [
    {
     "data": {
      "text/plain": [
       "array([ 1,  8, 27, 64], dtype=int32)"
      ]
     },
     "execution_count": 109,
     "metadata": {},
     "output_type": "execute_result"
    }
   ],
   "source": [
    "a**3"
   ]
  },
  {
   "cell_type": "code",
   "execution_count": 111,
   "id": "87ca6e30-3e30-4b86-a7ba-c584e6f320a3",
   "metadata": {},
   "outputs": [
    {
     "data": {
      "text/plain": [
       "array([ 0.84147098,  0.90929743,  0.14112001, -0.7568025 ])"
      ]
     },
     "execution_count": 111,
     "metadata": {},
     "output_type": "execute_result"
    }
   ],
   "source": [
    "np.sin(a)"
   ]
  },
  {
   "cell_type": "code",
   "execution_count": 113,
   "id": "42563340-e24c-44de-bcac-8e065e49ec04",
   "metadata": {},
   "outputs": [
    {
     "data": {
      "text/plain": [
       "array([1.        , 1.41421356, 1.73205081, 2.        ])"
      ]
     },
     "execution_count": 113,
     "metadata": {},
     "output_type": "execute_result"
    }
   ],
   "source": [
    "np.sqrt(a)"
   ]
  },
  {
   "cell_type": "code",
   "execution_count": null,
   "id": "0c7d5ef3-1466-497c-9c0d-6a2bd6356d06",
   "metadata": {},
   "outputs": [],
   "source": []
  }
 ],
 "metadata": {
  "kernelspec": {
   "display_name": "Python [conda env:base] *",
   "language": "python",
   "name": "conda-base-py"
  },
  "language_info": {
   "codemirror_mode": {
    "name": "ipython",
    "version": 3
   },
   "file_extension": ".py",
   "mimetype": "text/x-python",
   "name": "python",
   "nbconvert_exporter": "python",
   "pygments_lexer": "ipython3",
   "version": "3.12.7"
  }
 },
 "nbformat": 4,
 "nbformat_minor": 5
}
